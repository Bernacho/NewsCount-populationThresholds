{
 "cells": [
  {
   "cell_type": "markdown",
   "metadata": {},
   "source": [
    "# Codes web scraping\n",
    "## NewsCounts"
   ]
  },
  {
   "cell_type": "code",
   "execution_count": 1,
   "metadata": {},
   "outputs": [],
   "source": [
    "from selenium import webdriver\n",
    "from selenium.webdriver.common.keys import Keys\n",
    "from selenium.webdriver.common.by import By\n",
    "from selenium.webdriver.support.ui import WebDriverWait\n",
    "from selenium.webdriver.support import expected_conditions as EC\n",
    "from bs4 import BeautifulSoup\n",
    "import pandas as pd"
   ]
  },
  {
   "cell_type": "markdown",
   "metadata": {},
   "source": [
    "You have to download [chromedriver](https://www.selenium.dev/documentation/en/webdriver/driver_requirements/) and store in \"pathToChromedriver\" the path to that file."
   ]
  },
  {
   "cell_type": "code",
   "execution_count": 5,
   "metadata": {},
   "outputs": [],
   "source": [
    "pathToChromedriver = \"/home/bernardo/Downloads/chromedriver\"\n",
    "driver = webdriver.Chrome(pathToChromedriver)\n",
    "driver2 = webdriver.Chrome(pathToChromedriver)"
   ]
  },
  {
   "cell_type": "markdown",
   "metadata": {},
   "source": [
    "Open [FindLaw website](https://codes.findlaw.com/) and click in the state of your choosing. Input in the search box the terms you wan to search for. I used \"census population\". Click search, and when the browser reloads copy the url and paste it bellow."
   ]
  },
  {
   "cell_type": "code",
   "execution_count": 6,
   "metadata": {},
   "outputs": [],
   "source": [
    "url = \"https://codes.findlaw.com/LCsearch.html#?cludoquery=census%20population&cludoCategory=Codes&cludoRegion=Minnesota&cludopage=1&cludorefurl=https%3A%2F%2Fcodes.findlaw.com%2Fmn%2F&cludorefpt=Minnesota%20Statutes%20%7C%20FindLaw\"\n",
    "driver.get(url)"
   ]
  },
  {
   "cell_type": "markdown",
   "metadata": {},
   "source": [
    "The following code will open all of the search results and store the text for each code. It will also go through all of the pages of the search result and do the same thing."
   ]
  },
  {
   "cell_type": "code",
   "execution_count": 7,
   "metadata": {},
   "outputs": [],
   "source": [
    "codes = []\n",
    "page = 1\n",
    "content = driver.page_source\n",
    "soup = BeautifulSoup(content)\n",
    "next_len = len(soup.findAll(\"a\",attrs={\"data-page\":f\"{page+1}\"}))\n",
    "\n",
    "while page==1 or next_len>0:\n",
    "    if page>1:\n",
    "        right_arrow =  driver.find_element(By.CSS_SELECTOR,f\"a[data-page='{page}']\").click()\n",
    "        try:\n",
    "            element = WebDriverWait(driver, 10).until(\n",
    "                EC.presence_of_element_located((By.CSS_SELECTOR, \"li.search-results-item\"))\n",
    "            )\n",
    "        finally:\n",
    "            content = driver.page_source\n",
    "            soup = BeautifulSoup(content)\n",
    "            next_len = len(soup.findAll(\"a\",attrs={\"data-page\":f\"{page+1}\"}))\n",
    "        \n",
    "    for a in soup.findAll('li',attrs={\"class\":\"search-results-item\"}):\n",
    "        b= a.findNext('a',href=True)\n",
    "        \n",
    "        driver2.get(b[\"href\"])\n",
    "        try:\n",
    "            element = WebDriverWait(driver2, 10).until(\n",
    "                EC.presence_of_element_located((By.CSS_SELECTOR, \"input[type='search']\"))\n",
    "            )\n",
    "        finally:\n",
    "            content2 = driver2.page_source\n",
    "            soup2 = BeautifulSoup(content2)\n",
    "            text =[]\n",
    "\n",
    "            if \"404 Error\" not in driver2.title:\n",
    "                div_content = soup2.findAll('div',attrs={\"class\":\"leafContent section\"})\n",
    "                if len(div_content)>0:\n",
    "                    c =div_content[0].findAll(\"div\",attrs={'class':'subsection'})\n",
    "                    for d in c:\n",
    "                        text.append(d.get_text())\n",
    "\n",
    "            text = \"\\n\".join(text)\n",
    "            codes.append({\n",
    "                \"title\": b[\"title\"],\n",
    "                \"href\": b[\"href\"],\n",
    "                \"text\": text\n",
    "            })\n",
    "   \n",
    "    page=page+1\n",
    "    "
   ]
  },
  {
   "cell_type": "markdown",
   "metadata": {},
   "source": [
    "The results are now store in codes. We create a DataFrame out of that object."
   ]
  },
  {
   "cell_type": "code",
   "execution_count": 10,
   "metadata": {
    "scrolled": true
   },
   "outputs": [
    {
     "data": {
      "text/html": [
       "<div>\n",
       "<style scoped>\n",
       "    .dataframe tbody tr th:only-of-type {\n",
       "        vertical-align: middle;\n",
       "    }\n",
       "\n",
       "    .dataframe tbody tr th {\n",
       "        vertical-align: top;\n",
       "    }\n",
       "\n",
       "    .dataframe thead th {\n",
       "        text-align: right;\n",
       "    }\n",
       "</style>\n",
       "<table border=\"1\" class=\"dataframe\">\n",
       "  <thead>\n",
       "    <tr style=\"text-align: right;\">\n",
       "      <th></th>\n",
       "      <th>title</th>\n",
       "      <th>href</th>\n",
       "      <th>text</th>\n",
       "    </tr>\n",
       "  </thead>\n",
       "  <tbody>\n",
       "    <tr>\n",
       "      <td>0</td>\n",
       "      <td>Minnesota Statutes Evidence (Ch. 595-603) § 60...</td>\n",
       "      <td>https://codes.findlaw.com/mn/evidence-ch-595-6...</td>\n",
       "      <td></td>\n",
       "    </tr>\n",
       "    <tr>\n",
       "      <td>1</td>\n",
       "      <td>Minnesota Statutes Metropolitan Area (Ch. 473-...</td>\n",
       "      <td>https://codes.findlaw.com/mn/metropolitan-area...</td>\n",
       "      <td>\\n(a) The Metropolitan Council shall annually ...</td>\n",
       "    </tr>\n",
       "    <tr>\n",
       "      <td>2</td>\n",
       "      <td>Minnesota Statutes Property Taxes (Ch. 272-289...</td>\n",
       "      <td>https://codes.findlaw.com/mn/property-taxes-ch...</td>\n",
       "      <td></td>\n",
       "    </tr>\n",
       "    <tr>\n",
       "      <td>3</td>\n",
       "      <td>Minnesota Statutes Counties, County Officers, ...</td>\n",
       "      <td>https://codes.findlaw.com/mn/counties-county-o...</td>\n",
       "      <td></td>\n",
       "    </tr>\n",
       "    <tr>\n",
       "      <td>4</td>\n",
       "      <td>Minnesota Statutes Constitutional Offices and ...</td>\n",
       "      <td>https://codes.findlaw.com/mn/constitutional-of...</td>\n",
       "      <td>\\n(a) The commissioner shall appoint a state d...</td>\n",
       "    </tr>\n",
       "    <tr>\n",
       "      <td>...</td>\n",
       "      <td>...</td>\n",
       "      <td>...</td>\n",
       "      <td>...</td>\n",
       "    </tr>\n",
       "    <tr>\n",
       "      <td>624</td>\n",
       "      <td>Minnesota Statutes Criminal Procedure. Peace O...</td>\n",
       "      <td>https://codes.findlaw.com/mn/criminal-procedur...</td>\n",
       "      <td>\\nSubdivision 1. Public policy.  The legislatu...</td>\n",
       "    </tr>\n",
       "    <tr>\n",
       "      <td>625</td>\n",
       "      <td>Minnesota Statutes Property Taxes (Ch. 272-289...</td>\n",
       "      <td>https://codes.findlaw.com/mn/property-taxes-ch...</td>\n",
       "      <td>\\nSubdivision 1. How classified.  All real and...</td>\n",
       "    </tr>\n",
       "    <tr>\n",
       "      <td>626</td>\n",
       "      <td>Minnesota Statutes Public Welfare and Related ...</td>\n",
       "      <td>https://codes.findlaw.com/mn/public-welfare-an...</td>\n",
       "      <td>\\nSubdivision 1. Application.  The payment met...</td>\n",
       "    </tr>\n",
       "    <tr>\n",
       "      <td>627</td>\n",
       "      <td>Minnesota Statutes Property Taxes (Ch. 272-289...</td>\n",
       "      <td>https://codes.findlaw.com/mn/property-taxes-ch...</td>\n",
       "      <td>\\n\\nSubdivision 1. General rule.  (a) Resident...</td>\n",
       "    </tr>\n",
       "    <tr>\n",
       "      <td>628</td>\n",
       "      <td>Minnesota Statutes Criminal Procedure. Peace O...</td>\n",
       "      <td>https://codes.findlaw.com/mn/criminal-procedur...</td>\n",
       "      <td>\\n\\nSubdivision 1. Public policy.  (a) The leg...</td>\n",
       "    </tr>\n",
       "  </tbody>\n",
       "</table>\n",
       "<p>629 rows × 3 columns</p>\n",
       "</div>"
      ],
      "text/plain": [
       "                                                 title  \\\n",
       "0    Minnesota Statutes Evidence (Ch. 595-603) § 60...   \n",
       "1    Minnesota Statutes Metropolitan Area (Ch. 473-...   \n",
       "2    Minnesota Statutes Property Taxes (Ch. 272-289...   \n",
       "3    Minnesota Statutes Counties, County Officers, ...   \n",
       "4    Minnesota Statutes Constitutional Offices and ...   \n",
       "..                                                 ...   \n",
       "624  Minnesota Statutes Criminal Procedure. Peace O...   \n",
       "625  Minnesota Statutes Property Taxes (Ch. 272-289...   \n",
       "626  Minnesota Statutes Public Welfare and Related ...   \n",
       "627  Minnesota Statutes Property Taxes (Ch. 272-289...   \n",
       "628  Minnesota Statutes Criminal Procedure. Peace O...   \n",
       "\n",
       "                                                  href  \\\n",
       "0    https://codes.findlaw.com/mn/evidence-ch-595-6...   \n",
       "1    https://codes.findlaw.com/mn/metropolitan-area...   \n",
       "2    https://codes.findlaw.com/mn/property-taxes-ch...   \n",
       "3    https://codes.findlaw.com/mn/counties-county-o...   \n",
       "4    https://codes.findlaw.com/mn/constitutional-of...   \n",
       "..                                                 ...   \n",
       "624  https://codes.findlaw.com/mn/criminal-procedur...   \n",
       "625  https://codes.findlaw.com/mn/property-taxes-ch...   \n",
       "626  https://codes.findlaw.com/mn/public-welfare-an...   \n",
       "627  https://codes.findlaw.com/mn/property-taxes-ch...   \n",
       "628  https://codes.findlaw.com/mn/criminal-procedur...   \n",
       "\n",
       "                                                  text  \n",
       "0                                                       \n",
       "1    \\n(a) The Metropolitan Council shall annually ...  \n",
       "2                                                       \n",
       "3                                                       \n",
       "4    \\n(a) The commissioner shall appoint a state d...  \n",
       "..                                                 ...  \n",
       "624  \\nSubdivision 1. Public policy.  The legislatu...  \n",
       "625  \\nSubdivision 1. How classified.  All real and...  \n",
       "626  \\nSubdivision 1. Application.  The payment met...  \n",
       "627  \\n\\nSubdivision 1. General rule.  (a) Resident...  \n",
       "628  \\n\\nSubdivision 1. Public policy.  (a) The leg...  \n",
       "\n",
       "[629 rows x 3 columns]"
      ]
     },
     "execution_count": 10,
     "metadata": {},
     "output_type": "execute_result"
    }
   ],
   "source": [
    "df = pd.DataFrame.from_records(codes)\n",
    "df"
   ]
  },
  {
   "cell_type": "markdown",
   "metadata": {},
   "source": [
    "Finally, we store the data in a csv."
   ]
  },
  {
   "cell_type": "code",
   "execution_count": 11,
   "metadata": {},
   "outputs": [],
   "source": [
    "df.to_csv(\"Data/Minnesota.csv\",index=False)"
   ]
  },
  {
   "cell_type": "code",
   "execution_count": null,
   "metadata": {},
   "outputs": [],
   "source": []
  }
 ],
 "metadata": {
  "kernelspec": {
   "display_name": "eods-f19",
   "language": "python",
   "name": "eods-f19"
  },
  "language_info": {
   "codemirror_mode": {
    "name": "ipython",
    "version": 3
   },
   "file_extension": ".py",
   "mimetype": "text/x-python",
   "name": "python",
   "nbconvert_exporter": "python",
   "pygments_lexer": "ipython3",
   "version": "3.7.4"
  }
 },
 "nbformat": 4,
 "nbformat_minor": 2
}
