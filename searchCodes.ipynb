{
 "cells": [
  {
   "cell_type": "markdown",
   "metadata": {},
   "source": [
    "# Search law codes\n",
    "## NewsCounts"
   ]
  },
  {
   "cell_type": "code",
   "execution_count": 1,
   "metadata": {},
   "outputs": [],
   "source": [
    "import pandas as pd\n",
    "import numpy as np\n",
    "import re"
   ]
  },
  {
   "cell_type": "markdown",
   "metadata": {},
   "source": [
    "The following code opens one of the states CSV and then filters to get only the rows than contain:\n",
    "* At least one of \"grant\", \"fund\", or \"aid\"\n",
    "* A number or the word \"thousand\"\n",
    "* Word \"census\"\n",
    "* Word \"population\"\n",
    "\n",
    "After filtering the rows, the code prints the code title and the link for each of the results."
   ]
  },
  {
   "cell_type": "code",
   "execution_count": 2,
   "metadata": {
    "scrolled": false
   },
   "outputs": [
    {
     "name": "stderr",
     "output_type": "stream",
     "text": [
      "/home/bernardo/anaconda3/envs/eods-f19/lib/python3.7/site-packages/pandas/core/strings.py:1843: UserWarning: This pattern has match groups. To actually get the groups, use str.extract.\n",
      "  return func(self, *args, **kwargs)\n"
     ]
    },
    {
     "name": "stdout",
     "output_type": "stream",
     "text": [
      "(44, 3)\n",
      "California Code, Revenue and Taxation Code - RTC § 11001.5 https://codes.findlaw.com/ca/revenue-and-taxation-code/rtc-sect-11001-5.html\n",
      "------------------------------------\n",
      "California Code, Government Code - GOV § 36516 https://codes.findlaw.com/ca/government-code/gov-sect-36516.html\n",
      "------------------------------------\n",
      "California Code, Education Code - EDC § 85244 https://codes.findlaw.com/ca/education-code/edc-sect-85244.html\n",
      "------------------------------------\n",
      "California Code, Public Utilities Code - PUC § 99268.5 https://codes.findlaw.com/ca/public-utilities-code/puc-sect-99268-5.html\n",
      "------------------------------------\n",
      "California Code, Public Resources Code - PRC § 5096.336 https://codes.findlaw.com/ca/public-resources-code/prc-sect-5096-336.html\n",
      "------------------------------------\n",
      "California Code, Public Resources Code - PRC § 5621 https://codes.findlaw.com/ca/public-resources-code/prc-sect-5621.html\n",
      "------------------------------------\n",
      "California Code, Military and Veterans Code - MVC § 1008 https://codes.findlaw.com/ca/military-and-veterans-code/mvc-sect-1008.html\n",
      "------------------------------------\n",
      "California Code, Streets and Highways Code - SHC § 229.19 https://codes.findlaw.com/ca/streets-and-highways-code/shc-sect-229-19.html\n",
      "------------------------------------\n",
      "California Code, Public Resources Code - PRC § 5720 https://codes.findlaw.com/ca/public-resources-code/prc-sect-5720.html\n",
      "------------------------------------\n",
      "California Code, Public Resources Code - PRC § 80062 https://codes.findlaw.com/ca/public-resources-code/prc-sect-80062.html\n",
      "------------------------------------\n",
      "California Code, Streets and Highways Code - SHC § 188.8 https://codes.findlaw.com/ca/streets-and-highways-code/shc-sect-188-8.html\n",
      "------------------------------------\n",
      "California Code, Public Resources Code - PRC § 80052 https://codes.findlaw.com/ca/public-resources-code/prc-sect-80052.html\n",
      "------------------------------------\n",
      "California Code, Public Resources Code - PRC § 14588.1 https://codes.findlaw.com/ca/public-resources-code/prc-sect-14588-1.html\n",
      "------------------------------------\n",
      "California Code, Health and Safety Code - HSC § 50700 https://codes.findlaw.com/ca/health-and-safety-code/hsc-sect-50700.html\n",
      "------------------------------------\n",
      "California Code, Streets and Highways Code - SHC § 182.6 https://codes.findlaw.com/ca/streets-and-highways-code/shc-sect-182-6.html\n",
      "------------------------------------\n",
      "California Code, Public Resources Code - PRC § 5910 https://codes.findlaw.com/ca/public-resources-code/prc-sect-5910.html\n",
      "------------------------------------\n",
      "California Code, Public Resources Code - PRC § 5096.621 https://codes.findlaw.com/ca/public-resources-code/prc-sect-5096-621.html\n",
      "------------------------------------\n",
      "California Code, Government Code - GOV § 62001 https://codes.findlaw.com/ca/government-code/gov-sect-62001.html\n",
      "------------------------------------\n",
      "California Code, Health and Safety Code - HSC § 4730.5 https://codes.findlaw.com/ca/health-and-safety-code/hsc-sect-4730-5.html\n",
      "------------------------------------\n",
      "California Code, Streets and Highways Code - SHC § 101.7 https://codes.findlaw.com/ca/streets-and-highways-code/shc-sect-101-7.html\n",
      "------------------------------------\n",
      "California Code, Government Code - GOV § 70048 https://codes.findlaw.com/ca/government-code/gov-sect-70048.html\n",
      "------------------------------------\n",
      "California Code, Government Code - GOV § 70130 https://codes.findlaw.com/ca/government-code/gov-sect-70130.html\n",
      "------------------------------------\n",
      "California Code, Welfare and Institutions Code - WIC § 892 https://codes.findlaw.com/ca/welfare-and-institutions-code/wic-sect-892.html\n",
      "------------------------------------\n",
      "California Code, Public Resources Code - PRC § 14581.1 https://codes.findlaw.com/ca/public-resources-code/prc-sect-14581-1.html\n",
      "------------------------------------\n",
      "California Code, Revenue and Taxation Code - RTC § 408.1 https://codes.findlaw.com/ca/revenue-and-taxation-code/rtc-sect-408-1.html\n",
      "------------------------------------\n",
      "California Code, Public Resources Code - PRC § 5096.347 https://codes.findlaw.com/ca/public-resources-code/prc-sect-5096-347.html\n",
      "------------------------------------\n",
      "California Code, Public Resources Code - PRC § 14571 https://codes.findlaw.com/ca/public-resources-code/prc-sect-14571.html\n",
      "------------------------------------\n",
      "California Code, Financial Code - FIN § 809 https://codes.findlaw.com/ca/financial-code/fin-sect-809.html\n",
      "------------------------------------\n",
      "California Code, Public Resources Code - PRC § 43501 https://codes.findlaw.com/ca/public-resources-code/prc-sect-43501.html\n",
      "------------------------------------\n",
      "California Code, Health and Safety Code - HSC § 1250 https://codes.findlaw.com/ca/health-and-safety-code/hsc-sect-1250.html\n",
      "------------------------------------\n",
      "California Code, Government Code - GOV § 65088.1 https://codes.findlaw.com/ca/government-code/gov-sect-65088-1.html\n",
      "------------------------------------\n",
      "California Code, Vehicle Code - VEH § 12527 https://codes.findlaw.com/ca/vehicle-code/veh-sect-12527.html\n",
      "------------------------------------\n",
      "California Code, Government Code - GOV § 12730 https://codes.findlaw.com/ca/government-code/gov-sect-12730.html\n",
      "------------------------------------\n",
      "California Code, Revenue and Taxation Code - RTC § 97.31 https://codes.findlaw.com/ca/revenue-and-taxation-code/rtc-sect-97-31.html\n",
      "------------------------------------\n",
      "California Code, Financial Code - FIN § 7264 https://codes.findlaw.com/ca/financial-code/fin-sect-7264.html\n",
      "------------------------------------\n",
      "California Code, Health and Safety Code - HSC § 116450 https://codes.findlaw.com/ca/health-and-safety-code/hsc-sect-116450.html\n",
      "------------------------------------\n",
      "California Code, Health and Safety Code - HSC § 1357 https://codes.findlaw.com/ca/health-and-safety-code/hsc-sect-1357.html\n",
      "------------------------------------\n",
      "California Code, Financial Code - FIN § 7273 https://codes.findlaw.com/ca/financial-code/fin-sect-7273.html\n",
      "------------------------------------\n",
      "California Code, Financial Code - FIN § 818 https://codes.findlaw.com/ca/financial-code/fin-sect-818.html\n",
      "------------------------------------\n",
      "California Code, Government Code - GOV § 65913.4 https://codes.findlaw.com/ca/government-code/gov-sect-65913-4.html\n",
      "------------------------------------\n",
      "California Code, Welfare and Institutions Code - WIC § 16809 https://codes.findlaw.com/ca/welfare-and-institutions-code/wic-sect-16809.html\n",
      "------------------------------------\n",
      "California Code, Welfare and Institutions Code - WIC § 14085.5 https://codes.findlaw.com/ca/welfare-and-institutions-code/wic-sect-14085-5.html\n",
      "------------------------------------\n",
      "California Code, Health and Safety Code - HSC § 34176.1 https://codes.findlaw.com/ca/health-and-safety-code/hsc-sect-34176-1.html\n",
      "------------------------------------\n",
      "California Code, Elections Code - ELEC § 4005 https://codes.findlaw.com/ca/elections-code/elec-sect-4005.html\n",
      "------------------------------------\n"
     ]
    }
   ],
   "source": [
    "df = pd.read_csv(\"Data/California.csv\")\n",
    "\n",
    "df_filtered = df[\n",
    "                 df.text.str.contains(\"grant|fund|aid\",na=False,regex=True,case=False) &\n",
    "                 df.text.str.contains(\"(\\d+),(\\d+)|thousand\",na=False,regex=True,case=False) &\n",
    "                 df.text.str.contains(\"census\",na=False,regex=False,case=False) &\n",
    "                 df.text.str.contains(\"population\",na=False,regex=False,case=False) \n",
    "                ]\n",
    "\n",
    "print(df_filtered.shape)\n",
    "for index,a in df_filtered.iterrows():\n",
    "    print(a.title,a.href)\n",
    "    print(\"------------------------------------\")"
   ]
  },
  {
   "cell_type": "code",
   "execution_count": null,
   "metadata": {},
   "outputs": [],
   "source": []
  },
  {
   "cell_type": "code",
   "execution_count": null,
   "metadata": {},
   "outputs": [],
   "source": []
  }
 ],
 "metadata": {
  "kernelspec": {
   "display_name": "eods-f19",
   "language": "python",
   "name": "eods-f19"
  },
  "language_info": {
   "codemirror_mode": {
    "name": "ipython",
    "version": 3
   },
   "file_extension": ".py",
   "mimetype": "text/x-python",
   "name": "python",
   "nbconvert_exporter": "python",
   "pygments_lexer": "ipython3",
   "version": "3.7.4"
  }
 },
 "nbformat": 4,
 "nbformat_minor": 2
}
